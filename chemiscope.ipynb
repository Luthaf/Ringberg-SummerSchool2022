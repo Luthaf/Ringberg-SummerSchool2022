{
 "cells": [
  {
   "cell_type": "markdown",
   "metadata": {},
   "source": [
    "# Introduction to chemiscope\n",
    "\n",
    "This notebook contains an introduction to the capabilities of\n",
    "[chemiscope](https://chemiscope.org/), the interactive structure-properties\n",
    "explorer for materials and molecules. \n",
    "\n",
    "You can run this notebook after cloning the corresponding code and installing\n",
    "the dependencies:\n",
    "```\n",
    "git clone https://github.com/Luthaf/Ringberg-SummerSchool2022\n",
    "cd Ringberg-SummerSchool2022\n",
    "pip install -r requirements.txt\n",
    "jupyter notebook\n",
    "```"
   ]
  },
  {
   "cell_type": "code",
   "execution_count": null,
   "metadata": {},
   "outputs": [],
   "source": [
    "import ase.io\n",
    "import numpy as np\n",
    "import matplotlib.pyplot as plt\n",
    "\n",
    "import chemiscope"
   ]
  },
  {
   "cell_type": "markdown",
   "metadata": {},
   "source": [
    "Chemiscope is a tool to explore atomistic datasets: simulation trajectories,\n",
    "database of calculations for high-throughput screening, training set for machine\n",
    "learning, etc. It allows the interactive exploration of these large dataset,\n",
    "helping to guide the human intuition when looking for correlations in the data,\n",
    "as well as structure-property relationships.\n",
    "\n",
    "For this tutorial, we will be using the QM7 dataset. It is a dataset of small\n",
    "organic molecules (up to 7 non-hydrogen atoms), which is provided in the\n",
    "extended XYZ format in the same repository as this notebook. This dataset\n",
    "contains a single physical property: the atomization energy associated with each\n",
    "structure."
   ]
  },
  {
   "cell_type": "code",
   "execution_count": null,
   "metadata": {},
   "outputs": [],
   "source": [
    "frames = ase.io.read(\"qm7.xyz\", \":200\")\n",
    "print(f\"we are using {len(frames)} structures from the QM7 dataset\")\n",
    "\n",
    "atomization_energies = np.array([frame.info[\"atomization_energy\"] for frame in frames]).reshape(-1, 1)"
   ]
  },
  {
   "cell_type": "markdown",
   "metadata": {},
   "source": [
    "## Structural representations\n",
    "\n",
    "If we want to correlate the atomic structure and the properties, we need to be able to talk about structures and in particular structure similarity in an objective way.\n",
    "\n",
    "One possible tool to do this is one of the dozen atomistic representation[1] that was created in the last years to be used with machine learning. Here we will use the SOAP power spectrum[2], but other choices are possible and interesting depending what you want to do.\n",
    "\n",
    "[1] - Physics-Inspired Structural Representations for Molecules and Materials, [10.1021/acs.chemrev.1c00021](https://doi.org/10.1021/acs.chemrev.1c00021)\n",
    "\n",
    "[2] - On representing chemical environments, [10.1103/PhysRevB.87.184115](https://doi.org/10.1103/PhysRevB.87.184115)"
   ]
  },
  {
   "cell_type": "code",
   "execution_count": null,
   "metadata": {},
   "outputs": [],
   "source": [
    "from rascaline import SoapPowerSpectrum\n",
    "\n",
    "calculator = SoapPowerSpectrum(\n",
    "    cutoff=3.5,\n",
    "    max_radial=6,\n",
    "    max_angular=6,\n",
    "    atomic_gaussian_width=0.3,\n",
    "    center_atom_weight=1.0,\n",
    "    radial_basis={\"Gto\": {}},\n",
    "    cutoff_function={\"ShiftedCosine\": {\"width\": 0.5}},\n",
    "    gradients=False,\n",
    ")\n",
    "\n",
    "def average_over_structures(descriptor):\n",
    "    samples = descriptor.block().samples\n",
    "    values = descriptor.block().values\n",
    "    \n",
    "    all_structures = np.unique(samples[\"structure\"])\n",
    "    \n",
    "    output = np.zeros((len(all_structures), values.shape[1]))\n",
    "    for i, structure in enumerate(all_structures):\n",
    "        mask = samples[\"structure\"] == structure\n",
    "        output[i, :] += np.mean(values[mask, :], axis=0)\n",
    "    \n",
    "    return output"
   ]
  },
  {
   "cell_type": "code",
   "execution_count": null,
   "metadata": {},
   "outputs": [],
   "source": [
    "# compute the SOAP power spectrum using rascaline, and transform it from the\n",
    "# species-sparse storage to the usual single matrix storage\n",
    "\n",
    "per_atom_soap = calculator.compute(frames)\n",
    "per_atom_soap.keys_to_samples(\"species_center\")\n",
    "per_atom_soap.keys_to_properties([\"species_neighbor_1\", \"species_neighbor_2\"])\n",
    "\n",
    "per_structure_soap = average_over_structures(per_atom_soap)\n",
    "per_atom_soap = per_atom_soap.block().values"
   ]
  },
  {
   "cell_type": "markdown",
   "metadata": {},
   "source": [
    "Unfortunately, the resulting SOAP representation is very high-dimensional (3528 dimensions in this specific case), making it impossible to interpret and understand just by looking at the values."
   ]
  },
  {
   "cell_type": "code",
   "execution_count": null,
   "metadata": {},
   "outputs": [],
   "source": [
    "print(per_structure_soap.shape)\n",
    "print(\"CH4\", per_structure_soap[0])"
   ]
  },
  {
   "cell_type": "markdown",
   "metadata": {},
   "source": [
    "We will want to use dimensionality reduction algorithms to go from 3528 dimensions to something the human brain can apprehend, 2 to 4 dimensions.\n",
    "\n",
    "One of the simplest tool for such dimensionality reduction is the Principal Components Analysis or PCA. This algorithm tries to find the directions of highest variance in the high dimensionality space, and use these as axes for the low dimensionality space. \n",
    "\n",
    "We will use sklearn and skcosmo (an extension to sklearn developed in the COSMO laboratory) to prepare the data and compute the PCA"
   ]
  },
  {
   "cell_type": "code",
   "execution_count": null,
   "metadata": {},
   "outputs": [],
   "source": [
    "import sklearn\n",
    "import sklearn.decomposition\n",
    "\n",
    "import skcosmo\n",
    "import skcosmo.decomposition\n",
    "import skcosmo.preprocessing"
   ]
  },
  {
   "cell_type": "code",
   "execution_count": null,
   "metadata": {},
   "outputs": [],
   "source": [
    "pca = sklearn.decomposition.PCA(n_components=4)\n",
    "scaler = skcosmo.preprocessing.StandardFlexibleScaler(copy=True)\n",
    "\n",
    "X = scaler.fit_transform(per_structure_soap)\n",
    "soap_pca = pca.fit_transform(X)\n",
    "\n",
    "pca.explained_variance_ratio_"
   ]
  },
  {
   "cell_type": "markdown",
   "metadata": {},
   "source": [
    "Now we can try to look for correlations between the structural features and the property"
   ]
  },
  {
   "cell_type": "code",
   "execution_count": null,
   "metadata": {},
   "outputs": [],
   "source": [
    "fig, ax = plt.subplots(1, 2, figsize=(20, 8))\n",
    "ax[0].scatter(soap_pca[:, 0], atomization_energies)\n",
    "ax[0].set_xlabel(\"PCA axis 1\")\n",
    "ax[0].set_ylabel(\"atomization energy / kcal/mol\")\n",
    "\n",
    "\n",
    "ax[1].scatter(soap_pca[:, 1], atomization_energies)\n",
    "ax[1].set_ylabel(\"PCA axis 2\")\n",
    "ax[1].set_ylabel(\"atomization energy / kcal/mol\")\n",
    "plt.show()"
   ]
  },
  {
   "cell_type": "markdown",
   "metadata": {},
   "source": [
    "These plots are relatively hard to understand (which point correspond to which structure?), and are limited to 2 dimensions. That's where chemiscope enters the stage!"
   ]
  },
  {
   "cell_type": "code",
   "execution_count": null,
   "metadata": {},
   "outputs": [],
   "source": [
    "chemiscope.show(\n",
    "    frames=frames,\n",
    "    properties={\n",
    "        \"SOAP PCA\": soap_pca,\n",
    "    },\n",
    "    settings={\"map\": {\"color\": {\"property\": \"atomization_energy\"}}}\n",
    ")"
   ]
  },
  {
   "cell_type": "markdown",
   "metadata": {},
   "source": [
    "Here we can see how similar structures ends up close to one another in the projected PCA space, and there is some correlation between the SOAP representation and the atomization energy of the molecules"
   ]
  },
  {
   "cell_type": "code",
   "execution_count": null,
   "metadata": {},
   "outputs": [],
   "source": [
    "chemiscope.show(\n",
    "    frames=frames,\n",
    "    properties={\n",
    "        \"SOAP PCA\": soap_pca,\n",
    "    },\n",
    "    settings={\"map\": {\"color\": {\"property\": \"atomization_energy\"}}, \"pinned\": [26, 150, 128, 182]}\n",
    ")"
   ]
  },
  {
   "cell_type": "markdown",
   "metadata": {},
   "source": [
    "## PCovR: increasing correlations between the projection and the properties\n",
    "\n",
    "The above projection of SOAP somehow correlates with the energies, but not very well. If we want to find out more about structure-properties relatioships, we can biais the projection to be closer to a linear regression. This is the idea behing the Principal Covariate Regression method (PCovR), which is implemented in skcosmo.\n",
    "\n",
    "See \"Structure-property maps with Kernel principal covariates regression\" ([10.1088/2632-2153/aba9ef](https://doi.org/10.1088/2632-2153/aba9ef)) for more information on PCA, PCovR and kernel extension of these methods."
   ]
  },
  {
   "cell_type": "code",
   "execution_count": null,
   "metadata": {},
   "outputs": [],
   "source": [
    "pcovr_0 = skcosmo.decomposition.PCovR(n_components=4, mixing=0.0)\n",
    "pcovr_5 = skcosmo.decomposition.PCovR(n_components=4, mixing=0.5)\n",
    "pcovr_9 = skcosmo.decomposition.PCovR(n_components=4, mixing=0.9)\n",
    "\n",
    "X = scaler.fit_transform(per_structure_soap)\n",
    "y = scaler.fit_transform(atomization_energies)\n",
    "soap_pcovr0 = pcovr_0.fit_transform(X, y)\n",
    "soap_pcovr5 = pcovr_5.fit_transform(X, y)\n",
    "soap_pcovr9 = pcovr_9.fit_transform(X, y)"
   ]
  },
  {
   "cell_type": "code",
   "execution_count": null,
   "metadata": {},
   "outputs": [],
   "source": [
    "properties = {\n",
    "    \"SOAP PCovR α=0.0\": soap_pcovr0,\n",
    "    \"SOAP PCovR α=0.5\": soap_pcovr5,\n",
    "    \"SOAP PCovR α=0.9\": soap_pcovr9,\n",
    "}\n",
    "\n",
    "chemiscope.show(\n",
    "    frames=frames,\n",
    "    properties=properties,\n",
    "    settings={'map': {'color': {'property': 'atomization_energy'}}},\n",
    ")"
   ]
  },
  {
   "cell_type": "markdown",
   "metadata": {},
   "source": [
    "## Per-atom properties\n",
    "\n",
    "Chemiscope is also able to display per-atom properties and structure views.\n",
    "\n",
    "We will start with a small detour, training a linear model on summed (not averaged) SOAP\n",
    "vectors. We can then use this model with the per-atom SOAP representation to\n",
    "predict per-atom energies to use in chemiscope."
   ]
  },
  {
   "cell_type": "code",
   "execution_count": null,
   "metadata": {},
   "outputs": [],
   "source": [
    "def sum_over_structures(descriptor):\n",
    "    samples = descriptor.block().samples\n",
    "    values = descriptor.block().values\n",
    "    \n",
    "    all_structures = np.unique(samples[\"structure\"])\n",
    "    \n",
    "    output = np.zeros((len(all_structures), values.shape[1]))\n",
    "    for i, structure in enumerate(all_structures):\n",
    "        mask = samples[\"structure\"] == structure\n",
    "        output[i, :] += np.sum(values[mask, :], axis=0)\n",
    "    \n",
    "    return output\n",
    "\n",
    "per_atom_soap = calculator.compute(frames)\n",
    "per_atom_soap.keys_to_samples(\"species_center\")\n",
    "per_atom_soap.keys_to_properties([\"species_neighbor_1\", \"species_neighbor_2\"])\n",
    "\n",
    "per_structure_soap = sum_over_structures(per_atom_soap)\n",
    "per_atom_soap = per_atom_soap.block().values"
   ]
  },
  {
   "cell_type": "code",
   "execution_count": null,
   "metadata": {},
   "outputs": [],
   "source": [
    "model = sklearn.linear_model.Ridge(alpha=1e-4, fit_intercept=False)\n",
    "model.fit(per_structure_soap, atomization_energies)\n",
    "\n",
    "predicted = model.predict(per_structure_soap)\n",
    "\n",
    "plt.scatter(atomization_energies, predicted)\n",
    "min_e, max_e = (np.min(atomization_energies), np.max(atomization_energies))\n",
    "plt.plot([min_e, max_e], [min_e, max_e], color=\"r\")"
   ]
  },
  {
   "cell_type": "code",
   "execution_count": null,
   "metadata": {},
   "outputs": [],
   "source": [
    "local_energies = model.predict(per_atom_soap)\n",
    "\n",
    "print(\"per-atom energy in CH4\")\n",
    "print(local_energies[0:5, :])"
   ]
  },
  {
   "cell_type": "code",
   "execution_count": null,
   "metadata": {},
   "outputs": [],
   "source": [
    "X = scaler.fit_transform(per_atom_soap)\n",
    "y = scaler.fit_transform(local_energies)\n",
    "local_soap_pcovr = pcovr_5.fit_transform(X, y)\n",
    "\n",
    "properties = {\n",
    "    \"SOAP PCovR\": local_soap_pcovr,\n",
    "    \"local_atom_energy\": local_energies,\n",
    "}\n",
    "\n",
    "# Create a list of all atom-centered environnements\n",
    "environments = chemiscope.all_atomic_environments(frames, cutoff=3.5)\n",
    "\n",
    "chemiscope.show(\n",
    "    frames=frames,\n",
    "    properties=properties,\n",
    "    environments=environments,\n",
    "    settings={'map': {'color': {'property': 'local_atom_energy'}}},\n",
    ")"
   ]
  },
  {
   "cell_type": "markdown",
   "metadata": {},
   "source": [
    "## Sharing the results with others"
   ]
  },
  {
   "cell_type": "code",
   "execution_count": null,
   "metadata": {},
   "outputs": [],
   "source": [
    "# save to file and load into website\n",
    "\n",
    "chemiscope.write_input(\n",
    "    \"qm7.json.gz\",\n",
    "    frames=frames,\n",
    "    properties=properties,\n",
    "    environments=environments,\n",
    ")"
   ]
  },
  {
   "cell_type": "markdown",
   "metadata": {},
   "source": [
    "## Other cool things you can do with chemiscope/jupyter"
   ]
  },
  {
   "cell_type": "code",
   "execution_count": null,
   "metadata": {},
   "outputs": [],
   "source": [
    "# view structures only\n",
    "\n",
    "chemiscope.show(frames=frames, mode=\"structure\")"
   ]
  },
  {
   "cell_type": "code",
   "execution_count": null,
   "metadata": {},
   "outputs": [],
   "source": [
    "# view map only\n",
    "\n",
    "chemiscope.show(properties=properties, mode=\"map\")"
   ]
  },
  {
   "cell_type": "code",
   "execution_count": null,
   "metadata": {},
   "outputs": [],
   "source": [
    "# set settings\n",
    "\n",
    "settings = {\n",
    "    \"map\": {\n",
    "        \"color\": {\"property\": \"local_atom_energy\"},\n",
    "        \"z\": {\"property\": \"SOAP PCovR[3]\"}\n",
    "    },\n",
    "    \"structure\": [\n",
    "        {\"spaceFilling\": True},\n",
    "        {\"spaceFilling\": False},\n",
    "    ],\n",
    "    \"pinned\": [0, 100]\n",
    "}\n",
    "chemiscope.show(frames=frames, properties=properties, environments=environments, settings=settings)"
   ]
  },
  {
   "cell_type": "code",
   "execution_count": null,
   "metadata": {},
   "outputs": [],
   "source": []
  }
 ],
 "metadata": {
  "kernelspec": {
   "display_name": "Python 3 (ipykernel)",
   "language": "python",
   "name": "python3"
  },
  "language_info": {
   "codemirror_mode": {
    "name": "ipython",
    "version": 3
   },
   "file_extension": ".py",
   "mimetype": "text/x-python",
   "name": "python",
   "nbconvert_exporter": "python",
   "pygments_lexer": "ipython3",
   "version": "3.10.5"
  },
  "vscode": {
   "interpreter": {
    "hash": "6c49c5033ac8d7bec23b3fd73e1d586ad64507a893abc04ce2c0917ab25744ea"
   }
  }
 },
 "nbformat": 4,
 "nbformat_minor": 2
}
